{
 "cells": [
  {
   "cell_type": "code",
   "execution_count": 1,
   "metadata": {},
   "outputs": [],
   "source": [
    "import pandas as pd\n",
    "import numpy as np\n",
    "import matplotlib.pyplot as plt\n",
    "import seaborn as sns"
   ]
  },
  {
   "cell_type": "code",
   "execution_count": 2,
   "metadata": {},
   "outputs": [],
   "source": [
    "import sys\n",
    "import os\n",
    "sys.path.append(os.path.abspath(os.path.join(os.getcwd(), '../../src')))\n",
    "sys.path.append(os.path.abspath(os.path.join(os.getcwd(), '../../scripts')))"
   ]
  },
  {
   "cell_type": "code",
   "execution_count": 3,
   "metadata": {},
   "outputs": [],
   "source": [
    "from utils import *\n",
    "from plottings import *"
   ]
  },
  {
   "cell_type": "code",
   "execution_count": 6,
   "metadata": {},
   "outputs": [
    {
     "name": "stderr",
     "output_type": "stream",
     "text": [
      "C:\\Users\\Admin\\AppData\\Local\\Temp\\ipykernel_16240\\1363763938.py:1: DtypeWarning: Columns (7) have mixed types. Specify dtype option on import or set low_memory=False.\n",
      "  df = pd.read_csv('../../data/train.csv')\n"
     ]
    }
   ],
   "source": [
    "df = pd.read_csv('../../data/train.csv')"
   ]
  },
  {
   "cell_type": "code",
   "execution_count": 7,
   "metadata": {},
   "outputs": [
    {
     "data": {
      "text/html": [
       "<div>\n",
       "<style scoped>\n",
       "    .dataframe tbody tr th:only-of-type {\n",
       "        vertical-align: middle;\n",
       "    }\n",
       "\n",
       "    .dataframe tbody tr th {\n",
       "        vertical-align: top;\n",
       "    }\n",
       "\n",
       "    .dataframe thead th {\n",
       "        text-align: right;\n",
       "    }\n",
       "</style>\n",
       "<table border=\"1\" class=\"dataframe\">\n",
       "  <thead>\n",
       "    <tr style=\"text-align: right;\">\n",
       "      <th></th>\n",
       "      <th>col_name</th>\n",
       "      <th>col_dtype</th>\n",
       "      <th>num_of_nulls</th>\n",
       "      <th>num_of_non_nulls</th>\n",
       "      <th>num_of_distinct_values</th>\n",
       "      <th>distinct_values_counts</th>\n",
       "    </tr>\n",
       "  </thead>\n",
       "  <tbody>\n",
       "    <tr>\n",
       "      <th>0</th>\n",
       "      <td>Store</td>\n",
       "      <td>int64</td>\n",
       "      <td>0</td>\n",
       "      <td>1017209</td>\n",
       "      <td>1115</td>\n",
       "      <td>{1: 942, 726: 942, 708: 942, 709: 942, 713: 94...</td>\n",
       "    </tr>\n",
       "    <tr>\n",
       "      <th>1</th>\n",
       "      <td>DayOfWeek</td>\n",
       "      <td>int64</td>\n",
       "      <td>0</td>\n",
       "      <td>1017209</td>\n",
       "      <td>7</td>\n",
       "      <td>{5: 145845, 4: 145845, 3: 145665, 2: 145664, 1...</td>\n",
       "    </tr>\n",
       "    <tr>\n",
       "      <th>2</th>\n",
       "      <td>Date</td>\n",
       "      <td>object</td>\n",
       "      <td>0</td>\n",
       "      <td>1017209</td>\n",
       "      <td>942</td>\n",
       "      <td>{'2015-07-31': 1115, '2013-11-06': 1115, '2013...</td>\n",
       "    </tr>\n",
       "    <tr>\n",
       "      <th>3</th>\n",
       "      <td>Sales</td>\n",
       "      <td>int64</td>\n",
       "      <td>0</td>\n",
       "      <td>1017209</td>\n",
       "      <td>21734</td>\n",
       "      <td>{0: 172871, 5674: 215, 5558: 197, 5483: 196, 6...</td>\n",
       "    </tr>\n",
       "    <tr>\n",
       "      <th>4</th>\n",
       "      <td>Customers</td>\n",
       "      <td>int64</td>\n",
       "      <td>0</td>\n",
       "      <td>1017209</td>\n",
       "      <td>4086</td>\n",
       "      <td>{0: 172869, 560: 2414, 576: 2363, 603: 2337, 5...</td>\n",
       "    </tr>\n",
       "    <tr>\n",
       "      <th>5</th>\n",
       "      <td>Open</td>\n",
       "      <td>int64</td>\n",
       "      <td>0</td>\n",
       "      <td>1017209</td>\n",
       "      <td>2</td>\n",
       "      <td>{1: 844392, 0: 172817}</td>\n",
       "    </tr>\n",
       "    <tr>\n",
       "      <th>6</th>\n",
       "      <td>Promo</td>\n",
       "      <td>int64</td>\n",
       "      <td>0</td>\n",
       "      <td>1017209</td>\n",
       "      <td>2</td>\n",
       "      <td>{0: 629129, 1: 388080}</td>\n",
       "    </tr>\n",
       "    <tr>\n",
       "      <th>7</th>\n",
       "      <td>StateHoliday</td>\n",
       "      <td>object</td>\n",
       "      <td>0</td>\n",
       "      <td>1017209</td>\n",
       "      <td>5</td>\n",
       "      <td>{'0': 855087, 0: 131072, 'a': 20260, 'b': 6690...</td>\n",
       "    </tr>\n",
       "    <tr>\n",
       "      <th>8</th>\n",
       "      <td>SchoolHoliday</td>\n",
       "      <td>int64</td>\n",
       "      <td>0</td>\n",
       "      <td>1017209</td>\n",
       "      <td>2</td>\n",
       "      <td>{0: 835488, 1: 181721}</td>\n",
       "    </tr>\n",
       "  </tbody>\n",
       "</table>\n",
       "</div>"
      ],
      "text/plain": [
       "        col_name col_dtype  num_of_nulls  num_of_non_nulls  \\\n",
       "0          Store     int64             0           1017209   \n",
       "1      DayOfWeek     int64             0           1017209   \n",
       "2           Date    object             0           1017209   \n",
       "3          Sales     int64             0           1017209   \n",
       "4      Customers     int64             0           1017209   \n",
       "5           Open     int64             0           1017209   \n",
       "6          Promo     int64             0           1017209   \n",
       "7   StateHoliday    object             0           1017209   \n",
       "8  SchoolHoliday     int64             0           1017209   \n",
       "\n",
       "   num_of_distinct_values                             distinct_values_counts  \n",
       "0                    1115  {1: 942, 726: 942, 708: 942, 709: 942, 713: 94...  \n",
       "1                       7  {5: 145845, 4: 145845, 3: 145665, 2: 145664, 1...  \n",
       "2                     942  {'2015-07-31': 1115, '2013-11-06': 1115, '2013...  \n",
       "3                   21734  {0: 172871, 5674: 215, 5558: 197, 5483: 196, 6...  \n",
       "4                    4086  {0: 172869, 560: 2414, 576: 2363, 603: 2337, 5...  \n",
       "5                       2                             {1: 844392, 0: 172817}  \n",
       "6                       2                             {0: 629129, 1: 388080}  \n",
       "7                       5  {'0': 855087, 0: 131072, 'a': 20260, 'b': 6690...  \n",
       "8                       2                             {0: 835488, 1: 181721}  "
      ]
     },
     "execution_count": 7,
     "metadata": {},
     "output_type": "execute_result"
    }
   ],
   "source": [
    "column_summary(df)"
   ]
  },
  {
   "cell_type": "markdown",
   "metadata": {},
   "source": [
    "### NO null Value"
   ]
  }
 ],
 "metadata": {
  "kernelspec": {
   "display_name": "venv",
   "language": "python",
   "name": "python3"
  },
  "language_info": {
   "codemirror_mode": {
    "name": "ipython",
    "version": 3
   },
   "file_extension": ".py",
   "mimetype": "text/x-python",
   "name": "python",
   "nbconvert_exporter": "python",
   "pygments_lexer": "ipython3",
   "version": "3.8.0"
  }
 },
 "nbformat": 4,
 "nbformat_minor": 2
}
